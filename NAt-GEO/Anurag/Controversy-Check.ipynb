{
 "cells": [
  {
   "cell_type": "code",
   "execution_count": 1,
   "metadata": {},
   "outputs": [],
   "source": [
    "stcorpus = open('con_corpus.txt','r',encoding=\"utf8\")\n",
    "stcorpus = stcorpus.readlines()"
   ]
  },
  {
   "cell_type": "code",
   "execution_count": 2,
   "metadata": {},
   "outputs": [
    {
     "name": "stdout",
     "output_type": "stream",
     "text": [
      "SENTENCE :  A woman's place is in the home. \n",
      "\n",
      "LABEL : 1\n",
      "\n",
      "LENGTH :  25\n"
     ]
    }
   ],
   "source": [
    "print('SENTENCE : ',stcorpus[0][:-2])\n",
    "print()\n",
    "print('LABEL :',stcorpus[0][-2])\n",
    "print()\n",
    "print(\"LENGTH : \",len(stcorpus))"
   ]
  },
  {
   "cell_type": "code",
   "execution_count": 3,
   "metadata": {},
   "outputs": [],
   "source": [
    "sentences = []\n",
    "labels    = []"
   ]
  },
  {
   "cell_type": "code",
   "execution_count": 4,
   "metadata": {},
   "outputs": [],
   "source": [
    "import random\n",
    "random.shuffle(stcorpus)"
   ]
  },
  {
   "cell_type": "code",
   "execution_count": 5,
   "metadata": {},
   "outputs": [],
   "source": [
    "for i in range(25):\n",
    "    sentences.append(stcorpus[i][:-2])\n",
    "    labels.append(int(stcorpus[i][-2]))"
   ]
  },
  {
   "cell_type": "code",
   "execution_count": 6,
   "metadata": {},
   "outputs": [],
   "source": [
    "import tensorflow as  tf\n",
    "from tensorflow import keras\n",
    "from tensorflow.keras.preprocessing.text import Tokenizer\n",
    "from tensorflow.keras.preprocessing.sequence import pad_sequences"
   ]
  },
  {
   "cell_type": "code",
   "execution_count": 7,
   "metadata": {},
   "outputs": [],
   "source": [
    "tokenizer = Tokenizer(num_words=100,oov_token=\"<OOV>\")\n",
    "tokenizer.fit_on_texts(sentences)\n",
    "word_index = tokenizer.word_index"
   ]
  },
  {
   "cell_type": "code",
   "execution_count": 8,
   "metadata": {},
   "outputs": [
    {
     "data": {
      "text/plain": [
       "{'<OOV>': 1,\n",
       " 'the': 2,\n",
       " 'a': 3,\n",
       " 'be': 4,\n",
       " 'should': 5,\n",
       " 'in': 6,\n",
       " 'is': 7,\n",
       " 'are': 8,\n",
       " 'of': 9,\n",
       " 'you': 10,\n",
       " 'have': 11,\n",
       " 'to': 12,\n",
       " 'opinion': 13,\n",
       " 'house': 14,\n",
       " 'and': 15,\n",
       " 'can': 16,\n",
       " 'like': 17,\n",
       " 'for': 18,\n",
       " 'if': 19,\n",
       " 'it': 20,\n",
       " 'black': 21,\n",
       " 'people': 22,\n",
       " 'never': 23,\n",
       " 'stay': 24,\n",
       " 'all': 25,\n",
       " 'so': 26,\n",
       " 'good': 27,\n",
       " 'that': 28,\n",
       " \"i'd\": 29,\n",
       " 'mistress': 30,\n",
       " 'on': 31,\n",
       " 'those': 32,\n",
       " 'who': 33,\n",
       " 'always': 34,\n",
       " 'been': 35,\n",
       " 'favoured': 36,\n",
       " 'due': 37,\n",
       " 'their': 38,\n",
       " 'past': 39,\n",
       " 'media': 40,\n",
       " 'necessary': 41,\n",
       " 'evil': 42,\n",
       " 'royalty': 43,\n",
       " 'democracy': 44,\n",
       " 'incompatible': 45,\n",
       " 'reach': 46,\n",
       " 'our': 47,\n",
       " 'level': 48,\n",
       " 'your': 49,\n",
       " 'slum': 50,\n",
       " 'we': 51,\n",
       " 'basically': 52,\n",
       " 'selfish': 53,\n",
       " 'girl': 54,\n",
       " 'make': 55,\n",
       " 'her': 56,\n",
       " 'my': 57,\n",
       " 'man': 58,\n",
       " 'wife': 59,\n",
       " 'family': 60,\n",
       " 'pleasure': 61,\n",
       " 'riches': 62,\n",
       " 'spending': 63,\n",
       " 'fare': 64,\n",
       " 'dodging': 65,\n",
       " 'train': 66,\n",
       " 'or': 67,\n",
       " 'bus': 68,\n",
       " 'ok': 69,\n",
       " 'get': 70,\n",
       " 'away': 71,\n",
       " 'with': 72,\n",
       " 'work': 73,\n",
       " 'better': 74,\n",
       " 'they': 75,\n",
       " 'paid': 76,\n",
       " 'more': 77,\n",
       " 'end': 78,\n",
       " 'justifies': 79,\n",
       " 'means': 80,\n",
       " 'committing': 81,\n",
       " 'suicide': 82,\n",
       " 'made': 83,\n",
       " 'legal': 84,\n",
       " 'soft': 85,\n",
       " 'drugs': 86,\n",
       " 'marijuana': 87,\n",
       " 'legalized': 88,\n",
       " 'beauty': 89,\n",
       " 'only': 90,\n",
       " 'matter': 91,\n",
       " 'taste': 92,\n",
       " 'murderers': 93,\n",
       " 'executed': 94,\n",
       " 'boys': 95,\n",
       " 'girls': 96,\n",
       " 'not': 97,\n",
       " 'equal': 98,\n",
       " 'education': 99,\n",
       " 'will': 100,\n",
       " 'happier': 101,\n",
       " 'unmarried': 102,\n",
       " 'power': 103,\n",
       " 'endowed': 104,\n",
       " 'censor': 105,\n",
       " 'board': 106,\n",
       " 'reduced': 107,\n",
       " 'foreign': 108,\n",
       " 'language': 109,\n",
       " 'cannot': 110,\n",
       " 'taught': 111,\n",
       " 'must': 112,\n",
       " 'learned': 113,\n",
       " 'country': 114,\n",
       " 'gets': 115,\n",
       " 'government': 116,\n",
       " 'deserves': 117,\n",
       " 'babies': 118,\n",
       " 'cute': 119,\n",
       " 'eat': 120,\n",
       " 'them': 121,\n",
       " 'do': 122,\n",
       " \"can't\": 123,\n",
       " 'teach': 124,\n",
       " 'punishment': 125,\n",
       " 'has': 126,\n",
       " 'any': 127,\n",
       " 'effect': 128,\n",
       " \"woman's\": 129,\n",
       " 'place': 130,\n",
       " 'home': 131,\n",
       " 'property': 132,\n",
       " 'owned': 133,\n",
       " 'by': 134,\n",
       " 'state': 135}"
      ]
     },
     "execution_count": 8,
     "metadata": {},
     "output_type": "execute_result"
    }
   ],
   "source": [
    "word_index"
   ]
  },
  {
   "cell_type": "code",
   "execution_count": 9,
   "metadata": {},
   "outputs": [],
   "source": [
    "sequences = tokenizer.texts_to_sequences(sentences)"
   ]
  },
  {
   "cell_type": "code",
   "execution_count": 10,
   "metadata": {},
   "outputs": [
    {
     "name": "stdout",
     "output_type": "stream",
     "text": [
      "MaxLength :  16\n"
     ]
    }
   ],
   "source": [
    "ma = len(sequences[0])\n",
    "for i in range(25):\n",
    "    if len(sequences[i])>ma:\n",
    "        ma = len(sequences[i])\n",
    "print('MaxLength : ',ma)"
   ]
  },
  {
   "cell_type": "code",
   "execution_count": 11,
   "metadata": {},
   "outputs": [],
   "source": [
    "padded = pad_sequences(sequences, maxlen=ma)"
   ]
  },
  {
   "cell_type": "code",
   "execution_count": 12,
   "metadata": {},
   "outputs": [
    {
     "data": {
      "text/plain": [
       "135"
      ]
     },
     "execution_count": 12,
     "metadata": {},
     "output_type": "execute_result"
    }
   ],
   "source": [
    "vocab_size = len(word_index.keys())\n",
    "vocab_size"
   ]
  },
  {
   "cell_type": "code",
   "execution_count": 13,
   "metadata": {},
   "outputs": [],
   "source": [
    "model = tf.keras.Sequential([\n",
    "    tf.keras.layers.Embedding(vocab_size, 64),\n",
    "    tf.keras.layers.Bidirectional(tf.keras.layers.LSTM(64)),\n",
    "    tf.keras.layers.Dense(64, activation='relu'),\n",
    "    tf.keras.layers.Dense(1, activation='sigmoid')\n",
    "])"
   ]
  },
  {
   "cell_type": "code",
   "execution_count": 14,
   "metadata": {},
   "outputs": [
    {
     "name": "stdout",
     "output_type": "stream",
     "text": [
      "Model: \"sequential\"\n",
      "_________________________________________________________________\n",
      "Layer (type)                 Output Shape              Param #   \n",
      "=================================================================\n",
      "embedding (Embedding)        (None, None, 64)          8640      \n",
      "_________________________________________________________________\n",
      "bidirectional (Bidirectional (None, 128)               66048     \n",
      "_________________________________________________________________\n",
      "dense (Dense)                (None, 64)                8256      \n",
      "_________________________________________________________________\n",
      "dense_1 (Dense)              (None, 1)                 65        \n",
      "=================================================================\n",
      "Total params: 83,009\n",
      "Trainable params: 83,009\n",
      "Non-trainable params: 0\n",
      "_________________________________________________________________\n"
     ]
    }
   ],
   "source": [
    "model.summary()"
   ]
  },
  {
   "cell_type": "code",
   "execution_count": 15,
   "metadata": {},
   "outputs": [],
   "source": [
    "model.compile(loss='binary_crossentropy', optimizer='adam', metrics=['accuracy'])"
   ]
  },
  {
   "cell_type": "code",
   "execution_count": 16,
   "metadata": {},
   "outputs": [],
   "source": [
    "import numpy as np\n",
    "labels_d = np.array(labels)"
   ]
  },
  {
   "cell_type": "code",
   "execution_count": 17,
   "metadata": {},
   "outputs": [
    {
     "name": "stdout",
     "output_type": "stream",
     "text": [
      "Epoch 1/20\n",
      "1/1 [==============================] - 0s 0s/step - loss: 0.6947 - accuracy: 0.3200\n",
      "Epoch 2/20\n",
      "1/1 [==============================] - 0s 1ms/step - loss: 0.6808 - accuracy: 0.8000\n",
      "Epoch 3/20\n",
      "1/1 [==============================] - 0s 732us/step - loss: 0.6684 - accuracy: 0.8000\n",
      "Epoch 4/20\n",
      "1/1 [==============================] - 0s 1ms/step - loss: 0.6559 - accuracy: 0.8000\n",
      "Epoch 5/20\n",
      "1/1 [==============================] - 0s 1ms/step - loss: 0.6415 - accuracy: 0.8000\n",
      "Epoch 6/20\n",
      "1/1 [==============================] - 0s 0s/step - loss: 0.6251 - accuracy: 0.8000\n",
      "Epoch 7/20\n",
      "1/1 [==============================] - 0s 1ms/step - loss: 0.6064 - accuracy: 0.8000\n",
      "Epoch 8/20\n",
      "1/1 [==============================] - 0s 644us/step - loss: 0.5853 - accuracy: 0.8000\n",
      "Epoch 9/20\n",
      "1/1 [==============================] - 0s 770us/step - loss: 0.5614 - accuracy: 0.8000\n",
      "Epoch 10/20\n",
      "1/1 [==============================] - 0s 921us/step - loss: 0.5345 - accuracy: 0.8000\n",
      "Epoch 11/20\n",
      "1/1 [==============================] - 0s 290us/step - loss: 0.5048 - accuracy: 0.8000\n",
      "Epoch 12/20\n",
      "1/1 [==============================] - 0s 587us/step - loss: 0.4725 - accuracy: 0.8000\n",
      "Epoch 13/20\n",
      "1/1 [==============================] - 0s 528us/step - loss: 0.4391 - accuracy: 0.8000\n",
      "Epoch 14/20\n",
      "1/1 [==============================] - 0s 998us/step - loss: 0.4072 - accuracy: 0.8000\n",
      "Epoch 15/20\n",
      "1/1 [==============================] - 0s 1ms/step - loss: 0.3809 - accuracy: 0.8000\n",
      "Epoch 16/20\n",
      "1/1 [==============================] - 0s 872us/step - loss: 0.3653 - accuracy: 0.8000\n",
      "Epoch 17/20\n",
      "1/1 [==============================] - 0s 997us/step - loss: 0.3614 - accuracy: 0.8000\n",
      "Epoch 18/20\n",
      "1/1 [==============================] - 0s 617us/step - loss: 0.3608 - accuracy: 0.8000\n",
      "Epoch 19/20\n",
      "1/1 [==============================] - 0s 2ms/step - loss: 0.3526 - accuracy: 0.8000\n",
      "Epoch 20/20\n",
      "1/1 [==============================] - 0s 998us/step - loss: 0.3339 - accuracy: 0.8000\n"
     ]
    },
    {
     "data": {
      "text/plain": [
       "<tensorflow.python.keras.callbacks.History at 0x25ed0bc30f0>"
      ]
     },
     "execution_count": 17,
     "metadata": {},
     "output_type": "execute_result"
    }
   ],
   "source": [
    "model.fit(x = padded,\n",
    "          y = labels_d,\n",
    "          epochs=20,\n",
    "          )"
   ]
  },
  {
   "cell_type": "code",
   "execution_count": 18,
   "metadata": {},
   "outputs": [],
   "source": [
    "test = [\"The blacks are just meant to be slaves.They are only capable to polish my boots\"]\n",
    "ts = tokenizer.texts_to_sequences(test)\n",
    "ts_padded = pad_sequences(ts, maxlen=ma)"
   ]
  },
  {
   "cell_type": "code",
   "execution_count": 19,
   "metadata": {},
   "outputs": [],
   "source": [
    "result = model.predict(ts_padded)"
   ]
  },
  {
   "cell_type": "code",
   "execution_count": 20,
   "metadata": {},
   "outputs": [
    {
     "data": {
      "text/plain": [
       "array([[0.7609314]], dtype=float32)"
      ]
     },
     "execution_count": 20,
     "metadata": {},
     "output_type": "execute_result"
    }
   ],
   "source": [
    "result"
   ]
  }
 ],
 "metadata": {
  "kernelspec": {
   "display_name": "Python 3",
   "language": "python",
   "name": "python3"
  },
  "language_info": {
   "codemirror_mode": {
    "name": "ipython",
    "version": 3
   },
   "file_extension": ".py",
   "mimetype": "text/x-python",
   "name": "python",
   "nbconvert_exporter": "python",
   "pygments_lexer": "ipython3",
   "version": "3.7.3"
  }
 },
 "nbformat": 4,
 "nbformat_minor": 4
}
