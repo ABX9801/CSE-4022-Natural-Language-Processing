{
  "nbformat": 4,
  "nbformat_minor": 0,
  "metadata": {
    "colab": {
      "name": "Untitled5.ipynb",
      "provenance": []
    },
    "kernelspec": {
      "name": "python3",
      "display_name": "Python 3"
    }
  },
  "cells": [
    {
      "cell_type": "markdown",
      "metadata": {
        "id": "bxzLFExkUwm4"
      },
      "source": [
        "Calculating Vocabulary Score"
      ]
    },
    {
      "cell_type": "markdown",
      "metadata": {
        "id": "1dr-64yGUpeO"
      },
      "source": [
        "Preparing list of 800 Standard words\n",
        "link: http://ogden.basic-english.org/wordalpn.html\n",
        "\n"
      ]
    },
    {
      "cell_type": "code",
      "metadata": {
        "id": "w1Y42Lp3d-Hx"
      },
      "source": [
        "doc = [\"absence absorption acceleration acceptance accessory accident active address adjacent adventure advice age agent agency ago allowance along also alternative always ambition amplitude anchor ankle appendage application approximation arbitration arbitrary arc area arrangement ash asset assistant average awkward axis balcony bale bankrupt bark barrel beak beaker beard beat behind belt bet bill birefringence blame blanket both bottom brave break breakfast breast broker bubble bud budget buoyancy bunch burial busy calculation call capacity capital carpet cartilage case cast cave cavity cell ceremony certificate chair character charge child chimney china choice circulation circuit circumference civilization clay claim claw cleavage clever client climber clip code coil collision collection column combination combine communications complaint component compound concept concrete conductor congruent conservation consignment constant consumer continuous contour convenient conversion cool corner correlation corrosion cost court creeper crop cross cunning cusp customs damping date debit deck decrease defect deficiency deflation degenerate delivery demand denominator department desert density deposit determining dew diameter difference difficulty drift dike dilution dinner dip direct disappearance discharge discount disgrace dislike dissipation disturbance ditch dive divisor divorce doll domesticating dreadful dream duct dull duty each easy economy efficiency effort either elimination employer empty enemy envelope environment envy equation erosion eruption evaporation evening exact excitement experiment exercise explanation explosion export expression extinction eyebrow eyelash factor failure fair famous fan fastening fatigue fault ferment fertilizing fever fiber figure fin financial flash flask flesh flood flour focus forecast forehead foreign forgiveness fraction fracture fresh friction flint flood flow foliation frost frozen fume funnel funny fur furnace furniture fusion gate generation germ germinating gill glacier gland god grand grateful grating gravel grease grief grocery groove gross ground guard guarantee guess gum habit handkerchief handle heavy hedge hill hinge hire hold holiday home honest honey hoof host human hunt hurry hurt husband igneous image imagination import impurity inclusion index individual inflation infinity inheritance innocent institution insulator integer intelligent intercept interpretation intersection intrusion investigation investment inverse invitation jam jaw jealous jerk joint jug juice jury justice kennel kidney kitchen knock lace lag lake lamb lamp large latitude lawyer layer lazy lecture legal length lens lesson lever liability license lid life lime limestone link liver load local load loan locus loop longitude luck lump lunch lung magic magnitude manner many marble margin marriage mast mattress maturemean meaning medicine medium melt member mess message metabolism mill mineral mixture model modern modest momentum monopoly mood moral moustache mud multiple multiplication murder nasty nature navy neat neglect neighbor nest next nice node nostril nucleus numerator nurse obedient oblique officer orchestra ore organ origin outcrop outlier overlap oval own oxidation packing pad pair pan paragraph parent particle partner party passage path patience pedal pendulum pension people perfect petal piston plain plan plaster plug poetry pollen pool population porcelain practice praise prayer pressure prick priest prime probability product progress projectile projection promise proof proud pulley pupil purchase pure quantity quotient race radiation ratio reagent real receiver reciprocal rectangle recurring reference reflux reinforcement relative remark remedy rent repair reproduction repulsion resistance residue resolution result retail revenge reversible rich rigidity rise rival rock rot rotation rude rust sac sale sample satisfaction saturated saucer saving scale scarp schist scratch screen seal search security secretion section sedimentary selfish sensitivity sentence sepal service set shadow shale share shave shear sheet shell shore shoulder show sight sill similarity since skull slate sleeve slide social soil soldier solution solvent sorry spark specialization specimen speculation spirit spit splash spot stable stain stair stalk stamen statistics steady stimulus storm strain straw stream strength stress strike string study subject substitution subtraction success successive sucker sum supply surface surgeon suspension suspicious swelling swing switch sympathetic tailor tame tap tear tent term texture thickness thief thimble thorax threat thrust tide tie tissue tongs too total towel tower traffic tragedy transmission transparent trap travel treatment triangle truck tube tune tunnel twin typist ugly unconformity understanding universe unknown valency valley valve vapor variable vascular vegetable velocity vestigial victim victory volume vortex vote weak wedge welcome whether wholesale widow wife wild world wreck wrist yawn\"] "
      ],
      "execution_count": null,
      "outputs": []
    },
    {
      "cell_type": "code",
      "metadata": {
        "id": "JYmtkiEighK-",
        "outputId": "4a050897-0919-4087-abcf-6e803077b12a",
        "colab": {
          "base_uri": "https://localhost:8080/",
          "height": 54
        }
      },
      "source": [
        "#Converting Sentence into list of Words\n",
        "def convert(lst): \n",
        "    return (lst[0].split())\n",
        "\n",
        "standard_words =  convert(doc)\n",
        "print(standard_words)"
      ],
      "execution_count": null,
      "outputs": [
        {
          "output_type": "stream",
          "text": [
            "['absence', 'absorption', 'acceleration', 'acceptance', 'accessory', 'accident', 'active', 'address', 'adjacent', 'adventure', 'advice', 'age', 'agent', 'agency', 'ago', 'allowance', 'along', 'also', 'alternative', 'always', 'ambition', 'amplitude', 'anchor', 'ankle', 'appendage', 'application', 'approximation', 'arbitration', 'arbitrary', 'arc', 'area', 'arrangement', 'ash', 'asset', 'assistant', 'average', 'awkward', 'axis', 'balcony', 'bale', 'bankrupt', 'bark', 'barrel', 'beak', 'beaker', 'beard', 'beat', 'behind', 'belt', 'bet', 'bill', 'birefringence', 'blame', 'blanket', 'both', 'bottom', 'brave', 'break', 'breakfast', 'breast', 'broker', 'bubble', 'bud', 'budget', 'buoyancy', 'bunch', 'burial', 'busy', 'calculation', 'call', 'capacity', 'capital', 'carpet', 'cartilage', 'case', 'cast', 'cave', 'cavity', 'cell', 'ceremony', 'certificate', 'chair', 'character', 'charge', 'child', 'chimney', 'china', 'choice', 'circulation', 'circuit', 'circumference', 'civilization', 'clay', 'claim', 'claw', 'cleavage', 'clever', 'client', 'climber', 'clip', 'code', 'coil', 'collision', 'collection', 'column', 'combination', 'combine', 'communications', 'complaint', 'component', 'compound', 'concept', 'concrete', 'conductor', 'congruent', 'conservation', 'consignment', 'constant', 'consumer', 'continuous', 'contour', 'convenient', 'conversion', 'cool', 'corner', 'correlation', 'corrosion', 'cost', 'court', 'creeper', 'crop', 'cross', 'cunning', 'cusp', 'customs', 'damping', 'date', 'debit', 'deck', 'decrease', 'defect', 'deficiency', 'deflation', 'degenerate', 'delivery', 'demand', 'denominator', 'department', 'desert', 'density', 'deposit', 'determining', 'dew', 'diameter', 'difference', 'difficulty', 'drift', 'dike', 'dilution', 'dinner', 'dip', 'direct', 'disappearance', 'discharge', 'discount', 'disgrace', 'dislike', 'dissipation', 'disturbance', 'ditch', 'dive', 'divisor', 'divorce', 'doll', 'domesticating', 'dreadful', 'dream', 'duct', 'dull', 'duty', 'each', 'easy', 'economy', 'efficiency', 'effort', 'either', 'elimination', 'employer', 'empty', 'enemy', 'envelope', 'environment', 'envy', 'equation', 'erosion', 'eruption', 'evaporation', 'evening', 'exact', 'excitement', 'experiment', 'exercise', 'explanation', 'explosion', 'export', 'expression', 'extinction', 'eyebrow', 'eyelash', 'factor', 'failure', 'fair', 'famous', 'fan', 'fastening', 'fatigue', 'fault', 'ferment', 'fertilizing', 'fever', 'fiber', 'figure', 'fin', 'financial', 'flash', 'flask', 'flesh', 'flood', 'flour', 'focus', 'forecast', 'forehead', 'foreign', 'forgiveness', 'fraction', 'fracture', 'fresh', 'friction', 'flint', 'flood', 'flow', 'foliation', 'frost', 'frozen', 'fume', 'funnel', 'funny', 'fur', 'furnace', 'furniture', 'fusion', 'gate', 'generation', 'germ', 'germinating', 'gill', 'glacier', 'gland', 'god', 'grand', 'grateful', 'grating', 'gravel', 'grease', 'grief', 'grocery', 'groove', 'gross', 'ground', 'guard', 'guarantee', 'guess', 'gum', 'habit', 'handkerchief', 'handle', 'heavy', 'hedge', 'hill', 'hinge', 'hire', 'hold', 'holiday', 'home', 'honest', 'honey', 'hoof', 'host', 'human', 'hunt', 'hurry', 'hurt', 'husband', 'igneous', 'image', 'imagination', 'import', 'impurity', 'inclusion', 'index', 'individual', 'inflation', 'infinity', 'inheritance', 'innocent', 'institution', 'insulator', 'integer', 'intelligent', 'intercept', 'interpretation', 'intersection', 'intrusion', 'investigation', 'investment', 'inverse', 'invitation', 'jam', 'jaw', 'jealous', 'jerk', 'joint', 'jug', 'juice', 'jury', 'justice', 'kennel', 'kidney', 'kitchen', 'knock', 'lace', 'lag', 'lake', 'lamb', 'lamp', 'large', 'latitude', 'lawyer', 'layer', 'lazy', 'lecture', 'legal', 'length', 'lens', 'lesson', 'lever', 'liability', 'license', 'lid', 'life', 'lime', 'limestone', 'link', 'liver', 'load', 'local', 'load', 'loan', 'locus', 'loop', 'longitude', 'luck', 'lump', 'lunch', 'lung', 'magic', 'magnitude', 'manner', 'many', 'marble', 'margin', 'marriage', 'mast', 'mattress', 'maturemean', 'meaning', 'medicine', 'medium', 'melt', 'member', 'mess', 'message', 'metabolism', 'mill', 'mineral', 'mixture', 'model', 'modern', 'modest', 'momentum', 'monopoly', 'mood', 'moral', 'moustache', 'mud', 'multiple', 'multiplication', 'murder', 'nasty', 'nature', 'navy', 'neat', 'neglect', 'neighbor', 'nest', 'next', 'nice', 'node', 'nostril', 'nucleus', 'numerator', 'nurse', 'obedient', 'oblique', 'officer', 'orchestra', 'ore', 'organ', 'origin', 'outcrop', 'outlier', 'overlap', 'oval', 'own', 'oxidation', 'packing', 'pad', 'pair', 'pan', 'paragraph', 'parent', 'particle', 'partner', 'party', 'passage', 'path', 'patience', 'pedal', 'pendulum', 'pension', 'people', 'perfect', 'petal', 'piston', 'plain', 'plan', 'plaster', 'plug', 'poetry', 'pollen', 'pool', 'population', 'porcelain', 'practice', 'praise', 'prayer', 'pressure', 'prick', 'priest', 'prime', 'probability', 'product', 'progress', 'projectile', 'projection', 'promise', 'proof', 'proud', 'pulley', 'pupil', 'purchase', 'pure', 'quantity', 'quotient', 'race', 'radiation', 'ratio', 'reagent', 'real', 'receiver', 'reciprocal', 'rectangle', 'recurring', 'reference', 'reflux', 'reinforcement', 'relative', 'remark', 'remedy', 'rent', 'repair', 'reproduction', 'repulsion', 'resistance', 'residue', 'resolution', 'result', 'retail', 'revenge', 'reversible', 'rich', 'rigidity', 'rise', 'rival', 'rock', 'rot', 'rotation', 'rude', 'rust', 'sac', 'sale', 'sample', 'satisfaction', 'saturated', 'saucer', 'saving', 'scale', 'scarp', 'schist', 'scratch', 'screen', 'seal', 'search', 'security', 'secretion', 'section', 'sedimentary', 'selfish', 'sensitivity', 'sentence', 'sepal', 'service', 'set', 'shadow', 'shale', 'share', 'shave', 'shear', 'sheet', 'shell', 'shore', 'shoulder', 'show', 'sight', 'sill', 'similarity', 'since', 'skull', 'slate', 'sleeve', 'slide', 'social', 'soil', 'soldier', 'solution', 'solvent', 'sorry', 'spark', 'specialization', 'specimen', 'speculation', 'spirit', 'spit', 'splash', 'spot', 'stable', 'stain', 'stair', 'stalk', 'stamen', 'statistics', 'steady', 'stimulus', 'storm', 'strain', 'straw', 'stream', 'strength', 'stress', 'strike', 'string', 'study', 'subject', 'substitution', 'subtraction', 'success', 'successive', 'sucker', 'sum', 'supply', 'surface', 'surgeon', 'suspension', 'suspicious', 'swelling', 'swing', 'switch', 'sympathetic', 'tailor', 'tame', 'tap', 'tear', 'tent', 'term', 'texture', 'thickness', 'thief', 'thimble', 'thorax', 'threat', 'thrust', 'tide', 'tie', 'tissue', 'tongs', 'too', 'total', 'towel', 'tower', 'traffic', 'tragedy', 'transmission', 'transparent', 'trap', 'travel', 'treatment', 'triangle', 'truck', 'tube', 'tune', 'tunnel', 'twin', 'typist', 'ugly', 'unconformity', 'understanding', 'universe', 'unknown', 'valency', 'valley', 'valve', 'vapor', 'variable', 'vascular', 'vegetable', 'velocity', 'vestigial', 'victim', 'victory', 'volume', 'vortex', 'vote', 'weak', 'wedge', 'welcome', 'whether', 'wholesale', 'widow', 'wife', 'wild', 'world', 'wreck', 'wrist', 'yawn']\n"
          ],
          "name": "stdout"
        }
      ]
    },
    {
      "cell_type": "markdown",
      "metadata": {
        "id": "NMr44kMzU2j1"
      },
      "source": [
        "Applying Stemming "
      ]
    },
    {
      "cell_type": "code",
      "metadata": {
        "id": "smF_LQDmk5WU"
      },
      "source": [
        "from nltk.stem import PorterStemmer\n",
        "\n",
        "def Stem(standard_words):\n",
        "  st = PorterStemmer()\n",
        "  stemmed_standard_words = []\n",
        "  for i in standard_words:\n",
        "    stemmed_standard_words.append(st.stem(i))\n",
        "\n",
        "  return stemmed_standard_words"
      ],
      "execution_count": null,
      "outputs": []
    },
    {
      "cell_type": "code",
      "metadata": {
        "id": "dEpAR0t_m_5e"
      },
      "source": [
        "# from nltk.stem import LancasterStemmer\n",
        "\n",
        "# st = LancasterStemmer()\n",
        "\n",
        "# stemmed_standard_words = []\n",
        "\n",
        "# for i in standard_words:\n",
        "#   stemmed_standard_words.append(st.stem(i))\n",
        "\n",
        "# stemmed_standard_words\n",
        "\n",
        "# from nltk.stem import SnowballStemmer\n",
        "\n",
        "# st = SnowballStemmer(\"english\")\n",
        "\n",
        "# stemmed_standard_words = []\n",
        "\n",
        "# for i in standard_words:\n",
        "#   stemmed_standard_words.append(st.stem(i))\n",
        "\n",
        "# stemmed_standard_words\n",
        "\n",
        "# from nltk.stem import RegexpStemmer\n",
        " \n",
        "# st = RegexpStemmer('ing$|s$|ed$|er$', min=2)\n",
        "\n",
        "# stemmed_standard_words = []\n",
        "\n",
        "# for i in standard_words:\n",
        "#   stemmed_standard_words.append(st.stem(i))\n",
        "\n",
        "# stemmed_standard_words"
      ],
      "execution_count": null,
      "outputs": []
    },
    {
      "cell_type": "markdown",
      "metadata": {
        "id": "k0z-Q_m8U-Dd"
      },
      "source": [
        "Calculating vocabulary score"
      ]
    },
    {
      "cell_type": "code",
      "metadata": {
        "id": "mitG3kEFsHPA"
      },
      "source": [
        "def vocabularyScore(query,doc):\n",
        "  cnt=0\n",
        "  for i in query:\n",
        "    for j in doc:\n",
        "      if(i==j):\n",
        "        cnt+=1\n",
        "  return cnt"
      ],
      "execution_count": null,
      "outputs": []
    },
    {
      "cell_type": "code",
      "metadata": {
        "id": "CqNqOlGgtR1Q"
      },
      "source": [
        "#Convert the query into list of words\n",
        "\n",
        "def Convert(string): \n",
        "    li = list(string.split(\" \")) \n",
        "    return li "
      ],
      "execution_count": null,
      "outputs": []
    },
    {
      "cell_type": "code",
      "metadata": {
        "id": "pik3Xt5knffl",
        "outputId": "ae532805-dc63-451a-cca7-f30a764b3052",
        "colab": {
          "base_uri": "https://localhost:8080/",
          "height": 50
        }
      },
      "source": [
        "query = \"absenc circul circuit circumfer civil clay claim claw cleavag this the thing we are many more carefully things in life\"\n",
        "query = Convert(query)\n",
        "\n",
        "\n",
        "query = Stem(query)\n",
        "doc = Stem(standard_words)\n",
        "\n",
        "count = vocabularyScore(query,doc)\n",
        "print(count)\n",
        "vocabular_score = count/len(query)\n",
        "print(vocabular_score)\n"
      ],
      "execution_count": null,
      "outputs": [
        {
          "output_type": "stream",
          "text": [
            "10\n",
            "0.5\n"
          ],
          "name": "stdout"
        }
      ]
    }
  ]
}